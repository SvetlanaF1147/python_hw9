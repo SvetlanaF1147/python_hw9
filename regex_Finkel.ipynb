{
 "cells": [
  {
   "cell_type": "code",
   "execution_count": null,
   "metadata": {},
   "outputs": [],
   "source": [
    "Задание 1. Напишите функцию, которая принимает на вход строку и проверяет является ли она валидным транспортным номером. \n",
    "Если да, то функция должна возвращать отдельно номер и регион."
   ]
  },
  {
   "cell_type": "code",
   "execution_count": 1,
   "metadata": {},
   "outputs": [
    {
     "data": {
      "text/plain": [
       "'100 72'"
      ]
     },
     "execution_count": 1,
     "metadata": {},
     "output_type": "execute_result"
    }
   ],
   "source": [
    "import re\n",
    "car_number = 'А100МН72RUS'\n",
    "def find_car_number(car_number):\n",
    "    re_car_number = r'((?i:[укенхваросмт]){1})(\\d{3})((?i:[укенхваросмт]){1,2})(\\d{1,2})(RUS)'\n",
    "    if re.findall(re_car_number, car_number):\n",
    "        return re.sub(re_car_number, r'\\2 \\4', car_number)\n",
    "    else:\n",
    "        return 'Неверный номер'\n",
    "\n",
    "find_car_number(car_number)"
   ]
  },
  {
   "cell_type": "code",
   "execution_count": null,
   "metadata": {},
   "outputs": [],
   "source": [
    "Задание 2. Постарайтесь написать (в крайнем случае найти) самый полный шаблон для проверки e-mail адресов \n",
    "через регулярное выражение, которая проверяет e-mail адрес на валидность. \n",
    "Можно руководствоваться следующими минимальными требованиями:\n",
    "• +адрес должен содержать специальный символ “@”, который отделяет имя пользователя почтовой системы от доменного имени;\n",
    "• +адрес не должен содержать следующие символы: “пробел”, “,”, “:”, “;”, “!”, “#”, “%”, “*”, “(”, “)”, \n",
    "        “=”, “+”, “{”, “}”, \" \" \", \" ’ \", \" / \", \" \\ \" и “|”;\n",
    "• +адрес должен состоять только из латинских символов;\n",
    "• +после символа “@” должна быть как минимум одна “.”; \n",
    "• +после последней точки должно быть не менее 2-х и не более 4-х символов, причем наличие цифр не допускается;\n",
    "• +между последней точкой и символом “@” должно быть не менее 2-х символов\n",
    "• +слева от “@” должно быть не менее четырех символов"
   ]
  },
  {
   "cell_type": "code",
   "execution_count": 2,
   "metadata": {},
   "outputs": [
    {
     "data": {
      "text/plain": [
       "['student_Pyda10@netology.com']"
      ]
     },
     "execution_count": 2,
     "metadata": {},
     "output_type": "execute_result"
    }
   ],
   "source": [
    "import re\n",
    "email = 'student_Pyda10@netology.com'\n",
    "pattern = r'[a-zA-Z0-9._-]{4,}@[a-zA-Z0-9.-]{2,}\\.[a-zA-Z]{2,4}'\n",
    "re.findall(r'[a-zA-Z0-9._-]{4,}@[a-zA-Z0-9.-]{2,}\\.[a-zA-Z]{2,4}', email)"
   ]
  },
  {
   "cell_type": "code",
   "execution_count": null,
   "metadata": {},
   "outputs": [],
   "source": [
    "Задание 3. Напишите функцию, которая будет удалять все последовательные повторы слов из заданной строки \n",
    "при помощи регулярных выражений."
   ]
  },
  {
   "cell_type": "code",
   "execution_count": 3,
   "metadata": {},
   "outputs": [],
   "source": [
    "text = 'Одним из из признаков людей является способность общаться общаться общаться и выражать мысли при помощи звуков'"
   ]
  },
  {
   "cell_type": "code",
   "execution_count": 4,
   "metadata": {},
   "outputs": [
    {
     "data": {
      "text/plain": [
       "'Одним из признаков людей является способность общаться и выражать мысли при помощи звуков'"
      ]
     },
     "execution_count": 4,
     "metadata": {},
     "output_type": "execute_result"
    }
   ],
   "source": [
    "re.sub(r'\\b(\\w+)(?:\\s+\\1\\b)+', r'\\1', text)"
   ]
  },
  {
   "cell_type": "code",
   "execution_count": null,
   "metadata": {},
   "outputs": [],
   "source": [
    "Задание 4. Напишите функцию, которая будет проверять номер сотового телефона на валидность, \n",
    "если он валиден, то переводить его в формат:\n",
    "+7(xxx)-xxx-xx-xx\n",
    "​\n",
    "Постарайтесь предусмотреть как можно больше адекватных форматов изначального ввода номера. Примеры валидных форматов:\n",
    "​\n",
    "• +7 955 555-55-55; \n",
    "• 9555555555;\n",
    "• 8(955)555-55-55;\n",
    "• +7 955 555 55 55; \n",
    "• 7(955) 555-55-55;\n",
    "• +7 955+555+55+55. "
   ]
  },
  {
   "cell_type": "code",
   "execution_count": 5,
   "metadata": {},
   "outputs": [
    {
     "name": "stdout",
     "output_type": "stream",
     "text": [
      "+7(955)-555-55-55\n"
     ]
    }
   ],
   "source": [
    "import re\n",
    "number = '9555555555'\n",
    "\n",
    "list_numbers = re.findall(r'[\\d]', number)\n",
    "len_number = len(re.findall(r'[\\d]', number))\n",
    "\n",
    "if len_number == 11:\n",
    "    valid_number_11 = r'(\\W*\\d{1})(\\W*|\\s*)(\\d{3})(\\W*|\\s*)(\\d{3})(\\W*|\\s*)(\\d{2})(\\W*|\\s*)(\\d{2})'\n",
    "    print(re.sub(valid_number_11, r'+7(\\3)-\\5-\\7-\\9', number))\n",
    "    \n",
    "elif len_number == 10:\n",
    "    valid_number_10 = r'^(\\d{3})(\\W*|\\s*)(\\d{3})(\\W*|\\s*)(\\d{2})(\\W*|\\s*)(\\d{2})'\n",
    "    print(re.sub(valid_number_10, r'+7(\\1)-\\3-\\5-\\7', number))\n",
    "\n",
    "else:\n",
    "    print('некорректный номер')"
   ]
  },
  {
   "cell_type": "code",
   "execution_count": null,
   "metadata": {},
   "outputs": [],
   "source": []
  }
 ],
 "metadata": {
  "kernelspec": {
   "display_name": "Python 3",
   "language": "python",
   "name": "python3"
  },
  "language_info": {
   "codemirror_mode": {
    "name": "ipython",
    "version": 3
   },
   "file_extension": ".py",
   "mimetype": "text/x-python",
   "name": "python",
   "nbconvert_exporter": "python",
   "pygments_lexer": "ipython3",
   "version": "3.7.6"
  }
 },
 "nbformat": 4,
 "nbformat_minor": 4
}
